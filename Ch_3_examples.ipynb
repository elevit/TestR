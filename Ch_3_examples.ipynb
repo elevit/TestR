{
  "nbformat": 4,
  "nbformat_minor": 0,
  "metadata": {
    "colab": {
      "name": "Ch_3_examples.ipynb",
      "provenance": [],
      "collapsed_sections": [],
      "authorship_tag": "ABX9TyNlANP+GxhJoPLST2T2sojF",
      "include_colab_link": true
    },
    "kernelspec": {
      "name": "python3",
      "display_name": "Python 3"
    }
  },
  "cells": [
    {
      "cell_type": "markdown",
      "metadata": {
        "id": "view-in-github",
        "colab_type": "text"
      },
      "source": [
        "<a href=\"https://colab.research.google.com/github/elevit/TestR/blob/master/Ch_3_examples.ipynb\" target=\"_parent\"><img src=\"https://colab.research.google.com/assets/colab-badge.svg\" alt=\"Open In Colab\"/></a>"
      ]
    },
    {
      "cell_type": "code",
      "metadata": {
        "id": "jFolCcnCsiCf",
        "colab_type": "code",
        "colab": {}
      },
      "source": [
        "# some examples from LSTM books"
      ],
      "execution_count": 0,
      "outputs": []
    },
    {
      "cell_type": "code",
      "metadata": {
        "id": "GUCkW-JZsnGr",
        "colab_type": "code",
        "colab": {
          "base_uri": "https://localhost:8080/",
          "height": 34
        },
        "outputId": "5b00275a-e2a5-47b8-d28f-6c03a0d04c8f"
      },
      "source": [
        "import sys\n",
        "from pandas import Series\n",
        "from sklearn.preprocessing import MinMaxScaler\n",
        "print('libraries initialized')\n"
      ],
      "execution_count": 1,
      "outputs": [
        {
          "output_type": "stream",
          "text": [
            "libraries initialized\n"
          ],
          "name": "stdout"
        }
      ]
    },
    {
      "cell_type": "code",
      "metadata": {
        "id": "i42qyur0ssGa",
        "colab_type": "code",
        "colab": {}
      },
      "source": [
        "# define contrived series\n",
        "data = [10.0, 20.0, 30.0, 40.0, 50.0, 60.0, 70.0, 80.0, 90.0, 100.0]"
      ],
      "execution_count": 0,
      "outputs": []
    },
    {
      "cell_type": "code",
      "metadata": {
        "id": "_Xyr58xtsx1i",
        "colab_type": "code",
        "colab": {
          "base_uri": "https://localhost:8080/",
          "height": 386
        },
        "outputId": "52e83cfe-5c0d-4d8c-edc1-e9a6abf295a1"
      },
      "source": [
        "series = Series(data)\n",
        "print(series)\n",
        "\n",
        "# prepare data for normalization\n",
        "values = series.values\n",
        "values = values.reshape((len(values), 1))\n",
        "\n",
        "print(values)\n"
      ],
      "execution_count": 3,
      "outputs": [
        {
          "output_type": "stream",
          "text": [
            "0     10.0\n",
            "1     20.0\n",
            "2     30.0\n",
            "3     40.0\n",
            "4     50.0\n",
            "5     60.0\n",
            "6     70.0\n",
            "7     80.0\n",
            "8     90.0\n",
            "9    100.0\n",
            "dtype: float64\n",
            "[[ 10.]\n",
            " [ 20.]\n",
            " [ 30.]\n",
            " [ 40.]\n",
            " [ 50.]\n",
            " [ 60.]\n",
            " [ 70.]\n",
            " [ 80.]\n",
            " [ 90.]\n",
            " [100.]]\n"
          ],
          "name": "stdout"
        }
      ]
    },
    {
      "cell_type": "code",
      "metadata": {
        "id": "VooCaOOis6qv",
        "colab_type": "code",
        "colab": {
          "base_uri": "https://localhost:8080/",
          "height": 34
        },
        "outputId": "d402213d-8ccd-4cfe-f4c8-1e50259a8fe5"
      },
      "source": [
        "# train the normalization\n",
        "scaler = MinMaxScaler(feature_range=(0, 1))\n",
        "scaler = scaler.fit(values)\n",
        "print(' Min: %f, Max: %f' % (scaler.data_min_, scaler.data_max_))\n"
      ],
      "execution_count": 4,
      "outputs": [
        {
          "output_type": "stream",
          "text": [
            " Min: 10.000000, Max: 100.000000\n"
          ],
          "name": "stdout"
        }
      ]
    },
    {
      "cell_type": "code",
      "metadata": {
        "id": "5-jL6huJs_Fn",
        "colab_type": "code",
        "colab": {
          "base_uri": "https://localhost:8080/",
          "height": 210
        },
        "outputId": "1fb9e62a-5e0d-4f36-b0b2-c053a1921973"
      },
      "source": [
        "# normalize the dataset and print\n",
        "normalized = scaler.transform(values)\n",
        "print(\"normalized:\")\n",
        "print(normalized) # inverse transform and print\n",
        "inversed = scaler.inverse_transform(normalized)"
      ],
      "execution_count": 5,
      "outputs": [
        {
          "output_type": "stream",
          "text": [
            "normalized:\n",
            "[[0.        ]\n",
            " [0.11111111]\n",
            " [0.22222222]\n",
            " [0.33333333]\n",
            " [0.44444444]\n",
            " [0.55555556]\n",
            " [0.66666667]\n",
            " [0.77777778]\n",
            " [0.88888889]\n",
            " [1.        ]]\n"
          ],
          "name": "stdout"
        }
      ]
    },
    {
      "cell_type": "code",
      "metadata": {
        "id": "640ShZ2AtM7n",
        "colab_type": "code",
        "colab": {
          "base_uri": "https://localhost:8080/",
          "height": 210
        },
        "outputId": "bf020501-0e41-4ba9-ea6b-19ac5c8e6b2d"
      },
      "source": [
        "print(\"inverse from normalized:\")\n",
        "print(inversed)\n"
      ],
      "execution_count": 6,
      "outputs": [
        {
          "output_type": "stream",
          "text": [
            "inverse from normalized:\n",
            "[[ 10.]\n",
            " [ 20.]\n",
            " [ 30.]\n",
            " [ 40.]\n",
            " [ 50.]\n",
            " [ 60.]\n",
            " [ 70.]\n",
            " [ 80.]\n",
            " [ 90.]\n",
            " [100.]]\n"
          ],
          "name": "stdout"
        }
      ]
    }
  ]
}